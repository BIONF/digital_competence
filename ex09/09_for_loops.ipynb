{
 "cells": [
  {
   "cell_type": "markdown",
   "metadata": {},
   "source": [
    "# The for-loop\n",
    "\n",
    "So far we have used single commands or pipelines to analyze or modify files. But what if you want to do the same command over and over again, do you have to input it every time?\n",
    "\n",
    "Luckily, a computer is happy to do the same thing multiple times if you structure your command accordingly. One way to do this is using a for-loop, which is available in nearly all programming languages.\n",
    "\n",
    "In BASH you start a for-loop by specifying a group of elements, which is then loaded in a variable. The computer will then **do** a command that you specify **for** each element in the group. \n",
    "\n",
    "One easy way to create one of these groups is by using a wildcard:"
   ]
  },
  {
   "cell_type": "code",
   "execution_count": 2,
   "metadata": {},
   "outputs": [
    {
     "name": "stdout",
     "output_type": "stream",
     "text": [
      "caeel_3_1.fasta\n",
      "caeel_3_2.fasta\n",
      "caeel_3_3.fasta\n",
      "caeel_3_4.fasta\n"
     ]
    }
   ],
   "source": [
    "%%bash\n",
    "ls ./example_data/"
   ]
  },
  {
   "cell_type": "markdown",
   "metadata": {},
   "source": [
    "The command `echo` will simply print something in the terminal. You can use it to see what you have loaded into your variable. "
   ]
  },
  {
   "cell_type": "code",
   "execution_count": 10,
   "metadata": {},
   "outputs": [
    {
     "name": "stdout",
     "output_type": "stream",
     "text": [
      "now loaded: ./example_data/caeel_3_1.fasta\n",
      "now loaded: ./example_data/caeel_3_2.fasta\n",
      "now loaded: ./example_data/caeel_3_3.fasta\n",
      "now loaded: ./example_data/caeel_3_4.fasta\n"
     ]
    }
   ],
   "source": [
    "%%bash\n",
    "for file in ./example_data/caeel_*; do echo \"now loaded: $file\"; done"
   ]
  },
  {
   "cell_type": "markdown",
   "metadata": {},
   "source": [
    "Knowing what's in your variable, you can start using the commands you know:"
   ]
  },
  {
   "cell_type": "code",
   "execution_count": 11,
   "metadata": {},
   "outputs": [
    {
     "name": "stdout",
     "output_type": "stream",
     "text": [
      "10\n",
      "8\n",
      "7\n",
      "6\n"
     ]
    }
   ],
   "source": [
    "%%bash\n",
    "for file in ./example_data/caeel_*; do grep \">\" $file | wc -l; done"
   ]
  },
  {
   "cell_type": "markdown",
   "metadata": {},
   "source": [
    "You give the variable a name in the first part of the loop and then you call your variable by putting a `$` in front of it. (**Hint:** BASH will ignore variables if they are enclosed by `'`)"
   ]
  },
  {
   "cell_type": "code",
   "execution_count": 14,
   "metadata": {},
   "outputs": [
    {
     "name": "stdout",
     "output_type": "stream",
     "text": [
      "./example_data/caeel_3_1.fasta\n",
      "./example_data/caeel_3_2.fasta\n",
      "./example_data/caeel_3_3.fasta\n",
      "./example_data/caeel_3_4.fasta\n",
      "$kangaroo\n",
      "$kangaroo\n",
      "$kangaroo\n",
      "$kangaroo\n"
     ]
    }
   ],
   "source": [
    "%%bash\n",
    "for kangaroo in ./example_data/*.fasta; do echo \"$kangaroo\"; done\n",
    "for kangaroo in ./example_data/*.fasta; do echo '$kangaroo'; done"
   ]
  },
  {
   "cell_type": "markdown",
   "metadata": {},
   "source": [
    "Instead of loading file names into a variable, you can also loop over the contents of a file. For this, you simply use one of the commands you already know. There is one special thing that applies here. When calling a command in the first part of a for-loop, you have to enclose it in: `$()`"
   ]
  },
  {
   "cell_type": "code",
   "execution_count": 4,
   "metadata": {},
   "outputs": [
    {
     "name": "stdout",
     "output_type": "stream",
     "text": [
      ">caeel_3_11110\n",
      ">caeel_3_11111\n",
      ">caeel_3_11113\n",
      ">caeel_3_11115\n",
      ">caeel_3_11118\n",
      ">caeel_3_11119\n"
     ]
    }
   ],
   "source": [
    "%%bash\n",
    "for header in $(grep \">\" ./example_data/caeel_3_4.fasta); do echo $header; done"
   ]
  },
  {
   "cell_type": "markdown",
   "metadata": {},
   "source": [
    "## Tasks\n",
    "\n",
    "In this directory, you will find the genome annotation of *A. baumannii* AYE in [GFF format](https://en.wikipedia.org/wiki/General_feature_format). You will also find a list of gene names in the file `genes_of_interest.txt`. \n",
    "\n",
    "1. Use a for-loop to extract the locus-tag id of all gene names of interest. Safe the list of all CDS locus tags in a file."
   ]
  },
  {
   "cell_type": "code",
   "execution_count": null,
   "metadata": {},
   "outputs": [],
   "source": [
    "%%bash\n"
   ]
  },
  {
   "cell_type": "markdown",
   "metadata": {},
   "source": [
    "2. Safe each locus tag in a different file. Use the respective gene name for the name of the file (plus a suitable file extension)"
   ]
  },
  {
   "cell_type": "code",
   "execution_count": null,
   "metadata": {},
   "outputs": [],
   "source": [
    "%%bash\n"
   ]
  }
 ],
 "metadata": {
  "kernelspec": {
   "display_name": "Python 3",
   "language": "python",
   "name": "python3"
  },
  "language_info": {
   "codemirror_mode": {
    "name": "ipython",
    "version": 3
   },
   "file_extension": ".py",
   "mimetype": "text/x-python",
   "name": "python",
   "nbconvert_exporter": "python",
   "pygments_lexer": "ipython3",
   "version": "3.8.3"
  }
 },
 "nbformat": 4,
 "nbformat_minor": 4
}
