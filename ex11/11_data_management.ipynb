{
 "cells": [
  {
   "cell_type": "markdown",
   "id": "57741660",
   "metadata": {},
   "source": [
    "# Data management\n",
    "\n",
    "When working on project, it is important to keep your files organized. \n",
    "\n",
    "Most tools generate a great number of output files, \n",
    "of which only a few will be used for subsequent analyses. \n",
    "Sometimes it is necessary to try different tools or different parameters, \n",
    "compare the results and decide which ones perform best. \n",
    "\n",
    "Without proper data management, you will get lost in a labyrinth of scripts and files. \n",
    "This will loose you time and nerves, and more often than not, it will lead to mistakes in your analysis.\n",
    "\n",
    "Every project is different. And even with a solid initial plan in place, steps in the analysis may need to change as you go.\n",
    "You therefore need a framework that provides enough structure to keep your data management organized,\n",
    "but that is flexible enough so you can adapt it on the fly.\n",
    "\n",
    "There are of course multiple ways to to this. And ultimately, you need to find what works best for you.\n",
    "To get you started, let's start with the basics."
   ]
  },
  {
   "cell_type": "markdown",
   "id": "23b45b19",
   "metadata": {},
   "source": [
    "# Setting up your Project\n",
    "\n",
    "For this tutorial, you can  think of your \"project\" as the topic of this practical course. In more general terms, I use the word \"project\" to describe a set of \"analyses\", that together aim to answer a  scientific question. \n",
    "\n",
    "Each analysis uses data as input, proccesses it using some software, and produces results. A simple data structure for each analysis would be something like this:"
   ]
  },
  {
   "cell_type": "raw",
   "id": "73c86912",
   "metadata": {
    "vscode": {
     "languageId": "raw"
    }
   },
   "source": [
    "|-- data\n",
    "|-- results\n",
    "|-- scripts\n",
    " -- README.md  ## These are text files that will find in many project pages. They can be used to collect metadata, summarize the goals of the analysis, formulate milestones etc"
   ]
  },
  {
   "cell_type": "markdown",
   "id": "36db641a",
   "metadata": {},
   "source": [
    "## Cookiecutter\n",
    "\n",
    "You have learned to set up directories with the `cd` command. However, setting up multiple directories for each analysis can quickly become tedious. \n",
    "\n",
    "Alternatively, you can use **cookiecutter** to set up your working directory, using a wealth of [available templates](https://www.cookiecutter.io/templates).\n",
    "\n",
    "### Installation\n",
    "\n",
    "You can install cookiecutter using `mamba install cookiecutter` in your *base* environment.\n",
    "\n",
    "### Setting up your first cookiecutter project/analysis\n",
    "\n",
    "Here is an example call for cookiecutter that will generate a basic directory structure that will serve you well for most projects:\n",
    "\n",
    "```\n",
    "cookiecutter gh:patrickmineault/true-neutral-cookiecutter\n",
    "```"
   ]
  },
  {
   "cell_type": "markdown",
   "id": "6bc52e85",
   "metadata": {},
   "source": [
    "### Template using the Project/Analysis structure\n",
    "\n",
    "If you want, you can also the [cookiecutter template of our working group](https://github.com/BIONF/bionf_cookiecutter). This one allows you to first set up a \"project\" which then contains multiple \"analyses\".\n",
    "\n",
    "### Disclaimer\n",
    "\n",
    "It is okay if prefer to set directories up by hand and to not use cookiecutter. Try to find what works best for you :)"
   ]
  },
  {
   "cell_type": "markdown",
   "id": "15ea74a1",
   "metadata": {},
   "source": [
    "# General Words of Advice\n",
    "\n",
    "### Organize your project in modules (called \"analyses\" in this tutorial)\n",
    "\n",
    "* You can use the \"work packages\" for your course in our DokuWiki as a starting point to what might be a module in a data analysis project\n",
    "* Feel free to define more fine grained modules wherever needed\n",
    "\n",
    "### Give your analyses names that refer to their goal \n",
    "\n",
    "* \"genome_assembly\" is a better directory name than \"Flye\" or \"illumina\", since you might end up using different strategies to accomplish the task of assemblying a genome\n",
    "\n",
    "### Try to identify which results are \"key findings\"\n",
    "\n",
    "* this will be everything (e.g. tables, figures) that might be relevant when the time comes to present your findings (i.e. writing a protocol/thesis/manuscript) \n",
    "* note down where these results are located and how they were generated\n",
    "\n",
    "### Don't be afraid to reorganize your project structure when things become messy\n",
    "\n",
    "* You will thank yourself later\n",
    "\n",
    "### Document as you go\n",
    "\n",
    "* Everything not saved will be lost\n",
    "\n",
    "### Keep track of your workflow\n",
    "\n",
    "* Which analysis generated data that was used as input for which downstream analysis?\n",
    "* Document the flow of information, for example using specialised tools like [**Xmind**](https://xmind.com/) or use tools you most likely already know like **PowerPoint**.\n"
   ]
  },
  {
   "cell_type": "markdown",
   "id": "1c65704a",
   "metadata": {},
   "source": [
    "# Advanced reading\n",
    "\n",
    "* You can read more about setting up research projects and managing virtual environments in the [Good Research Code Handbook](https://goodresearch.dev/setup) by Patrick Mineault."
   ]
  }
 ],
 "metadata": {
  "kernelspec": {
   "display_name": "DA",
   "language": "python",
   "name": "python3"
  },
  "language_info": {
   "name": "python",
   "version": "3.13.7"
  }
 },
 "nbformat": 4,
 "nbformat_minor": 5
}
