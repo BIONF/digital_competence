{
 "cells": [
  {
   "cell_type": "markdown",
   "metadata": {},
   "source": [
    "# Regular Expressions\n",
    "\n",
    "[Regular expressions](https://en.wikipedia.org/wiki/Regular_expression) are special characters that are used to express a pattern in a generalized way. You have already seen one example for this, the `*` wildcard character we used to access files in exercise 1 and 2.\n",
    "\n",
    "When working with the content of a file rather than the file itself (for example with `grep`), the `*` wildcard character has a slightly different meaning. It reads as \"the character before the `*`, 0 to many times\". \n",
    "\n",
    "Together with another special character you can build a construct which means \"match anything\". A single dot `.` means \"any character\" in the bash syntax. So you can match anything with:"
   ]
  },
  {
   "cell_type": "code",
   "execution_count": null,
   "metadata": {},
   "outputs": [],
   "source": [
    "%%bash\n",
    "# match any line containing 0 or many characters (which are all of them)\n",
    "grep \".*\" ejemplo.txt"
   ]
  },
  {
   "cell_type": "markdown",
   "metadata": {},
   "source": [
    "But what if you want to match the `.` character in the file, so you don't want the character to have its special meaning of \"any character\"? In that case you have to put a backslash in front of the character. This is called \"escaping\" the character:"
   ]
  },
  {
   "cell_type": "code",
   "execution_count": null,
   "metadata": {},
   "outputs": [],
   "source": [
    "%%bash\n",
    "grep \"\\.\" ejemplo.txt"
   ]
  },
  {
   "cell_type": "markdown",
   "metadata": {},
   "source": [
    "Another useful character are the \"ankers\" `^` and `$`. They specify the beginning of the line or the end of the line, respectively"
   ]
  },
  {
   "cell_type": "code",
   "execution_count": null,
   "metadata": {},
   "outputs": [],
   "source": [
    "%%bash\n",
    "# return all lines starting with an x\n",
    "grep \"^x\" ejemplo.txt"
   ]
  },
  {
   "cell_type": "markdown",
   "metadata": {},
   "source": [
    "Sometimes, you might want only the matching pattern returned not the full line, in this case you can use `grep -o"
   ]
  },
  {
   "cell_type": "code",
   "execution_count": null,
   "metadata": {},
   "outputs": [],
   "source": [
    "%%bash\n",
    "grep -o \"^a.\" ejemplo.txt"
   ]
  },
  {
   "cell_type": "markdown",
   "metadata": {},
   "source": [
    "Look at the regular expression in the command above and at the example file. Can you say with your own words what the regular expression means?"
   ]
  },
  {
   "cell_type": "markdown",
   "metadata": {},
   "source": [
    "## Tasks\n",
    "\n",
    "The file in this directory contains [coding sequences](https://en.wikipedia.org/wiki/Coding_region) of *Pseudomonas aeruginosa* PA14.\n",
    "\n",
    "1. What is the frequency of the different [start codons](https://en.wikipedia.org/wiki/Start_codon) in this *Pseudomonas* assembly? Think about where the start codons are located in the file and extract them using `grep`. Count **all** start codons in the file, not only the ones you would expect from your biological expectation! "
   ]
  },
  {
   "cell_type": "code",
   "execution_count": null,
   "metadata": {},
   "outputs": [],
   "source": [
    "%%bash\n"
   ]
  },
  {
   "cell_type": "markdown",
   "metadata": {},
   "source": [
    "2. What is the frequency of the different stop codons?"
   ]
  },
  {
   "cell_type": "code",
   "execution_count": null,
   "metadata": {},
   "outputs": [],
   "source": [
    "%%bash\n"
   ]
  }
 ],
 "metadata": {
  "kernelspec": {
   "display_name": "Python 3",
   "language": "python",
   "name": "python3"
  },
  "language_info": {
   "codemirror_mode": {
    "name": "ipython",
    "version": 3
   },
   "file_extension": ".py",
   "mimetype": "text/x-python",
   "name": "python",
   "nbconvert_exporter": "python",
   "pygments_lexer": "ipython3",
   "version": "3.8.3"
  }
 },
 "nbformat": 4,
 "nbformat_minor": 4
}
