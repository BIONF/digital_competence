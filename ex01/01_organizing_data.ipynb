{
 "cells": [
  {
   "cell_type": "markdown",
   "metadata": {},
   "source": [
    "# Organizing Data using Wildcards"
   ] 
  },
  {
   "cell_type": "markdown",
   "metadata": {},
   "source": [
    "The \"data\" folder of this exercise contains text files as well as protein sequences in FASTA format. These files are named \"WP_016467203.1_headers.txt\" and \"WP_016467203.1.fa\". The text file contains header information, while the FASTA file contains protein sequences."
   ]
  },
  {
   "cell_type": "markdown",
   "metadata": {},
   "source": [
    "## File formats\n",
    "\n",
    "One of the most important file formats in bioinformatics is the [FASTA](https://en.wikipedia.org/wiki/FASTA_format) file. It contains header lines that start with a `>` as well as 1 to many lines of sequence information per header. Look below for an example:\n",
    "\n",
    "```
",
    ">WP_016467203.1 - Protein sequence example\n",
    "MLLFWGYPASSIKFCEPQSTIIHFDSCINLCLKETYCMLAFGNDSSCTLCDIYAVSKITQSNYTSNIQTAIKIDSQLQCPKNMTTNQYTYTTGSNNYKLTFSDPSWTITYEKSCVNSTFRMFPRPTGPFCLDVLWSVGNRVKSSTYCKDLGEGLDLAGMQTKKEFDYVLKTAKTKSYYNTNYKYSTVWLSGIMRSACQTSPVPSGCDGIKAFSGFSYQDNFDVYKFAPGYPKIPSSASPRSMQLLISQSESAFEGMIGDALSDYICDGQSPPVICVFYMRRSCCMKIQTIQKKSIHS\n",
    "```\n",
    "\n",
    "By convention, FASTA files end with `.fa` or `.fasta`. Using these dot notations is very useful because they allow you to make some assumptions about a file and its structure. However, as already mentioned, format notation is only a convention and will not be enforced by the BASH shell. You have therefore no guarantee that a \"file.fasta\" will look like you expect it to, so it is always a good idea to check your files! \n",
    "\n",
    "Sticking to these naming conventions will make your life way easier, so give all of your files meaningful endings (use `.txt` if you are unsure)! In this exercise, we will look at one example of how standardized endings for your data types save you a lot of trouble."
   ]
  },
  {
   "cell_type": "markdown",
   "metadata": {},
   "source": [
    "## Prerequisites\n",
    "\n",
    "  * Listing the content of a directory (`ls`)\n",
    "  * Making directories (`mkdir`)\n",
    "  * Copying files (`cp`)\n",
    "  * Removing files (`rm`)\n",
    "  * Opening files(`cat` or `less`)\n",
    "  * Moving files (`mv`)\n",
    "  * Using pipes to combine commands (`|`)\n",
    "  * Counting lines (`wc -l`)\n",
    "  * Matching patterns (`grep`)"
   ]
  },
  {
   "cell_type": "markdown",
   "metadata": {},
   "source": [
    "## Wildcards\n",
    "\n",
    "Some characters are special in the syntax of the BASH shell. For example, the `*` character (called asterisk) will match any number of occurrences of any character. In other words, a `*` matches everything, a true wildcard if you will. For example, the following command will concatenate all the files that have the ending `.txt`: \n",
    "\n",
    "`cat *.txt`\n",
    "\n",
    "`?` works as any single character:\n",
    "\n",
    "`cat example.t?t`\n",
    "\n",
    "You can use wildcards to process several files at once, given that they match a certain pattern. Try it out in your local bash shell and start solving the tasks below when you are ready."
   ]
  },
  {
   "cell_type": "markdown",
   "metadata": {},
   "source": [
    "## Tasks\n",
    "1. Create a subfolder for the sequences (`.fa`) and a subfolder for the headers (`.txt`). Copy the corresponding files to those locations using only one command for each group!"
   ]
  },
  {
   "cell_type": "markdown",
   "metadata": {},
   "source": [
    "2. Check that all files have been copied correctly to those locations"
   ]
  },
  {
   "cell_type": "markdown",
   "metadata": {},
   "source": [
    "3. Remove the original files from the parent folder"
   ]
  },
  {
   "cell_type": "markdown",
   "metadata": {},
   "source": [
    "4. In the folder with the sequences, create two subfolders: one for the latest release (`_10_`) and one for all other releases. Move all files to their respective subfolder."
   ]
  },
  {
   "cell_type": "markdown",
   "metadata": {},
   "source": [
    "5. Count how many files are in the sequence folder of the latest release. List the contents of the directory you created using an **absolute path**, count the number of sequences, and document your solution at the bottom of the code section below."
   ]
  },
  {
   "cell_type": "code",
   "execution_count": 5,
   "metadata": {},
   "outputs": [
    {
     "name": "stdout",
     "output_type": "stream",
     "text": [
      "Number of protein sequences in the latest release:\n",
      ">WP_016467203.1\n",
      "MLLFWGYPASSIKFCEPQSTIIHFDSCINLCLKETYCMLAFGNDSSCTLCDIYAVSKITQSNYTSNIQTAIKIDSQLQCPKNMTTNQYTYTTGSNNYKLTFSDPSWTITYEKSCVNSTFRMFPRPTGPFCLDVLWSVGNRVKSSTYCKDLGEGLDLAGMQTKKEFDYVLKTAKTKSYYNTNYKYSTVWLSGIMRSACQTSPVPSGCDGIKAFSGFSYQDNFDVYKFAPGYPKIPSSASPRSMQLLISQSESAFEGMIGDALSDYICDGQSPPVICVFYMRRSCCMKIQTIQKKSIHS\n"
     ]
    }
   ],
   "source": [
    "%%bash\n",
    "echo \"Number of protein sequences in the latest release:\"\n"
   ]
  },
  {
   "cell_type": "markdown",
   "metadata": {},
   "source": [
    "6. Select the code cell and click the \"Run\" button of the Jupyter Notebook interface on the top of the page. Does the result match the one from your local shell?"
   ]
  }
 ],
 "metadata": {
  "kernelspec": {
   "display_name": "Python 3 (ipykernel)",
   "language": "python",
   "name": "python3"
  },
  "language_info": {
   "codemirror_mode": {
    "name": "ipython",
    "version": 3
   },
   "file_extension": ".py",
   "mimetype": "text/x-python",
   "name": "python",
   "nbconvert_exporter": "python",
   "pygments_lexer": "ipython3",
   "version": "3.9.7"
  }
 },
 "nbformat": 4,
 "nbformat_minor": 4
}


