{
 "cells": [
  {
   "cell_type": "markdown",
   "metadata": {},
   "source": [
    "# BASH utilities\n",
    "\n",
    "With the commands you learned so far, you are well set for performing a multitude of different tasks and analyses in the BASH shell. In this exercise, we will talk about a few more tools that you will need in your day to day life working in the shell.\n",
    "\n",
    "## Downloading files\n",
    "\n",
    "If you want to download files from the command line you can use the `wget` command. Most commonly, `wget` is used when downloading from the [FTP](https://de.wikipedia.org/wiki/File_Transfer_Protocol) server of some database. All you need is a link to the location of the file. In most cases, you can get this link by right-clicking on the name on the file and then selecting \"Copy link address\".\n",
    "\n",
    "## Unziping\n",
    "\n",
    "When transfering or storing data it is adventageous if the size of the data is as small as possible. For this reason, files get oftentimes archived, compressed or both. On UNIX systems, the most commonly used programs for this are `gzip` and `tar`\n",
    "\n",
    "```\n",
    "# creating a ziped and archived directory\n",
    "tar -czf archive-name.tar.gz file-name\n",
    "\n",
    "# unzip file\n",
    "gunzip file.gz\n",
    "\n",
    "# unzip archives\n",
    "tar -xvf archive.tar.gz\n",
    "```\n",
    "\n",
    "\n",
    "## Permissions\n",
    "\n",
    "When working with other people in a shared data environment, you might want to protect some of your files so that other people are not allowed just go ahead and delete them. Handling who can do what with each files is called setting up the permissions. But how can we check what permissions a file currently has? For this, you can use the `ls -l` which will give you some addiontal information compared to `ls`. \n",
    "\n",
    "The permissions are represented in the first column. The first character is a 'd' if the entry is a directory. After that permissions are granted for **r**reading, e**x**ecuting and **w**riting. There are three groups for which permissions can be granted: the owner of the file, the group of the owner and everyone.\n",
    "\n",
    "Given that you have enough permissions to begin with (for example by being the owner of a file) you can change the permissions of a file using the `chmod` command. You can do a quick interent search to find out more about `chmod` and how to use it.\n",
    "\n",
    "## Links\n",
    "\n",
    "When setting up your working directory for a project, it is a good idea to have the data you are working with close at hand. Very often, these files will be very large however and it would be not a very efficient usage of ressources to have multiple copies of these files cluttering your storage space. In these cases\n",
    "you can set up a link to the file. There are two types of links, hard-links and soft-links (also called symbolic links). In simplified terms, a hard-link points to the location on the harddrive where the file is stored, whereas a soft-link points to the path where the file is located.\n",
    "You can read more about the differences between the two link types [here](https://askubuntu.com/questions/108771/what-is-the-difference-between-a-hard-link-and-a-symbolic-link).\n",
    "\n",
    "We recommend working with soft links, because they make maintenance of the disc space easier. You can create soft links with:\n",
    "\n",
    "`ln -s <source> <linkname>`\n",
    "\n",
    "\n",
    "\n",
    "## Tasks\n",
    "\n",
    "For this task, we will be working with the NCBI Reference Sequence Database ([RefSeq](https://www.ncbi.nlm.nih.gov/refseq/)). \n",
    "\n",
    "1. Visit the RefSeq FTP page of *Saccharomyces cerevisiae* and download the protein sequences of the reference assembly in fasta format\n",
    "`https://ftp.ncbi.nlm.nih.gov/genomes/refseq/fungi/Saccharomyces_cerevisiae/`\n",
    "1. Unzip the file you downloaded\n",
    "1. Change the permission of the file you downloaded so that everyone can execute the file and write to it\n",
    "1. Create a symbolic link of the file on your desktop"
   ]
  }
 ],
 "metadata": {
  "kernelspec": {
   "display_name": "Python 3",
   "language": "python",
   "name": "python3"
  },
  "language_info": {
   "codemirror_mode": {
    "name": "ipython",
    "version": 3
   },
   "file_extension": ".py",
   "mimetype": "text/x-python",
   "name": "python",
   "nbconvert_exporter": "python",
   "pygments_lexer": "ipython3",
   "version": "3.8.3"
  }
 },
 "nbformat": 4,
 "nbformat_minor": 4
}