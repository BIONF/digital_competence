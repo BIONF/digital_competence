{
 "cells": [
  {
   "cell_type": "markdown",
   "metadata": {},
   "source": [
    "# Modifying lines\n",
    "\n",
    "Sometimes it is not enough to extract only the lines that contain some information of interest. In many cases, you want to extract a very specific piece of information and not anything else.\n",
    "\n",
    "Take a look at the file in this directory. It contains the domain annotation of several proteins in [XML](https://en.wikipedia.org/wiki/XML) format. Try to extract all lines that contain the \"feature type\" annotation of the different domains using `grep`. \n",
    "\n",
    "In this exercise we will learn how to modify these lines so that we can extract only the name of the feature type."
   ]
  },
  {
   "cell_type": "markdown",
   "metadata": {},
   "source": [
    "## The sed command - a BASH powerhouse\n",
    "\n",
    "You have already learned about one command with which you can modify the content of a line. Using the `cut` command and different delimiters, you can already extract quite a lot of information from most files.\n",
    "\n",
    "Although the `cut` command is powerful in its own right, the `sed` command opens up all possibilities of regular expressions for your data extraction.\n",
    "\n",
    "Not only that, in its core the `sed` command is used to **replace** one pattern with another. Look below for an example of the `sed` syntax:"
   ]
  },
  {
   "cell_type": "code",
   "execution_count": 2,
   "metadata": {},
   "outputs": [
    {
     "name": "stdout",
     "output_type": "stream",
     "text": [
      "XXXXXXXXXXXXX\n",
      "aaaaa\txxxxx\n",
      "xxxxx\tbbbbb\n",
      "ccccc\txxxxx\n",
      "xxxxx\tddddd\n",
      "eeeee\txxxxx\n",
      "aaaaa\tbbbbb\n",
      "....\tfffff\n",
      "axaxa\tbxbxb\n",
      "XXXXXXXXXXXXX"
     ]
    }
   ],
   "source": [
    "%%bash\n",
    "# you already know this one\n",
    "cat ejemplo.txt"
   ]
  },
  {
   "cell_type": "code",
   "execution_count": 4,
   "metadata": {},
   "outputs": [
    {
     "name": "stdout",
     "output_type": "stream",
     "text": [
      "XXXXXXXXXXXXX\n",
      "aaaaa\tyxxxx\n",
      "yxxxx\tbbbbb\n",
      "ccccc\tyxxxx\n",
      "yxxxx\tddddd\n",
      "eeeee\tyxxxx\n",
      "aaaaa\tbbbbb\n",
      "....\tfffff\n",
      "ayaxa\tbxbxb\n",
      "XXXXXXXXXXXXX"
     ]
    }
   ],
   "source": [
    "%%bash\n",
    "sed 's/x/y/' ejemplo.txt\n",
    "# the s at the beginning of the expression stand for \"substitute\""
   ]
  },
  {
   "cell_type": "code",
   "execution_count": 5,
   "metadata": {},
   "outputs": [
    {
     "name": "stdout",
     "output_type": "stream",
     "text": [
      "XXXXXXXXXXXXX\n",
      "aaaaa\tyyyyy\n",
      "yyyyy\tbbbbb\n",
      "ccccc\tyyyyy\n",
      "yyyyy\tddddd\n",
      "eeeee\tyyyyy\n",
      "aaaaa\tbbbbb\n",
      "....\tfffff\n",
      "ayaya\tbybyb\n",
      "XXXXXXXXXXXXX"
     ]
    }
   ],
   "source": [
    "%%bash\n",
    "# replace ALL occurrences of the pattern, not only the first one (the g stands for global)\n",
    "sed 's/x/y/g' ejemplo.txt"
   ]
  },
  {
   "cell_type": "code",
   "execution_count": 8,
   "metadata": {},
   "outputs": [
    {
     "name": "stdout",
     "output_type": "stream",
     "text": [
      "XXXXXXXXXXXXX\n",
      "aaaaa\txxxxx\n",
      "xxxx@bbbb\n",
      "ccccc\txxxxx\n",
      "xxxxx\tddddd\n",
      "eeeee\txxxxx\n",
      "aaaa@bbbb\n",
      "....\tfffff\n",
      "axax@xbxb\n",
      "XXXXXXXXXXXXX"
     ]
    }
   ],
   "source": [
    "%%bash\n",
    "# sed can use regular expressions and special characters\n",
    "sed 's/.\\tb/@/' ejemplo.txt"
   ]
  },
  {
   "cell_type": "code",
   "execution_count": 9,
   "metadata": {},
   "outputs": [
    {
     "name": "stdout",
     "output_type": "stream",
     "text": [
      "XXXXXXXXXXX\n",
      "aaa\txxxxx\n",
      "xxx\tbbbbb\n",
      "ccc\txxxxx\n",
      "xxx\tddddd\n",
      "eee\txxxxx\n",
      "aaa\tbbbbb\n",
      "..\tfffff\n",
      "axa\tbxbxb\n",
      "XXXXXXXXXXX"
     ]
    }
   ],
   "source": [
    "%%bash\n",
    "# you can use sed to remove parts of the line, just subsitute for nothing\n",
    "sed 's/^..//' ejemplo.txt"
   ]
  },
  {
   "cell_type": "code",
   "execution_count": 12,
   "metadata": {},
   "outputs": [
    {
     "name": "stdout",
     "output_type": "stream",
     "text": [
      "bananabananabananabananabananabananabananabananabananabananabananabananabanana\n",
      "aaaaa\txxxxx\n",
      "xxxxx\tbbbbb\n",
      "ccccc\txxxxx\n",
      "xxxxx\tddddd\n",
      "eeeee\txxxxx\n",
      "aaaaa\tbbbbb\n",
      "....\tfffff\n",
      "axaxa\tbxbxb\n",
      "bananabananabananabananabananabananabananabananabananabananabananabananabanana"
     ]
    }
   ],
   "source": [
    "%%bash\n",
    "# sed works with other delimiters as well, not only slashes\n",
    "sed 's|X|banana|g' ejemplo.txt"
   ]
  },
  {
   "cell_type": "markdown",
   "metadata": {},
   "source": [
    "## How to use sed for data extraction\n",
    "\n",
    "Going back to data extraction. Suppose you want to extract only the feature type name from a line like this:\n",
    "\n",
    "`                <feature type=\"Gmad2\" instance=\"3\" clan=\"Gmad2\" evalue=\"1.8e-07\">`\n",
    "\n",
    "Just follow these steps to extract the information you need:\n",
    "1. Identify your piece of information in the line (it would be Gmad2 in this case)\n",
    "2. Look at all the information left of it and think of a regular expression that describes its pattern\n",
    "3. Remove the pattern with sed\n",
    "4. Look to the right of the information, think of a pattern, and remove\n",
    "\n",
    "Think of `sed` as a pair of clippers. Snipping away everything that you are not interested in, piece by piece."
   ]
  },
  {
   "cell_type": "markdown",
   "metadata": {},
   "source": [
    "## Tasks\n",
    "\n",
    "1. How many different feature types can be found, and which ones are they?"
   ]
  },
  {
   "cell_type": "code",
   "execution_count": null,
   "metadata": {},
   "outputs": [],
   "source": [
    "%%bash\n"
   ]
  },
  {
   "cell_type": "markdown",
   "metadata": {},
   "source": [
    "2. Is any of these features repeated in 10 or more instances in any of the proteins? Which features are these?"
   ]
  },
  {
   "cell_type": "code",
   "execution_count": null,
   "metadata": {},
   "outputs": [],
   "source": [
    "%%bash\n"
   ]
  }
 ],
 "metadata": {
  "kernelspec": {
   "display_name": "Python 3",
   "language": "python",
   "name": "python3"
  },
  "language_info": {
   "codemirror_mode": {
    "name": "ipython",
    "version": 3
   },
   "file_extension": ".py",
   "mimetype": "text/x-python",
   "name": "python",
   "nbconvert_exporter": "python",
   "pygments_lexer": "ipython3",
   "version": "3.8.3"
  }
 },
 "nbformat": 4,
 "nbformat_minor": 4
}
