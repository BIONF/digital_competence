{
 "cells": [
  {
   "cell_type": "markdown",
   "metadata": {},
   "source": [
    "# Creating delimiter separated files in BASH\n",
    "\n",
    "You can use BASH to pre-process information before importing them into other programs such as Windows Excel. In this use case, you want to transform your data into a delimiter separated file, like tab-separated values `.tsv` or the comma-separated values `.csv`. \n",
    "\n",
    "Using your new skills with `grep` and `sed` you already have all the tools you need to make one of these files. But before you get started, let's have a look at how we can change the order of the columns in a file."
   ]
  },
  {
   "cell_type": "markdown",
   "metadata": {},
   "source": [
    "## A glimpse into awk\n",
    "\n",
    "[awk](https://de.wikipedia.org/wiki/Awk) is a very powerful tool. In fact, it is its own programming language specialized in dealing with delimiter separated files.\n",
    "\n",
    "`awk` loads the content of a file into different variables. Each variable stands for one column of the file. The first column will be called `$1`, the second `$2` and so on.\n",
    "\n",
    "Look at the example below. We will call `awk` and tell it that our **F**ield delimiter is a tabstop (`\\t`). We will then open the `awk` statement and tell it to print the second and then the first column, separeted by a tabstop:"
   ]
  },
  {
   "cell_type": "code",
   "execution_count": 6,
   "metadata": {},
   "outputs": [
    {
     "name": "stdout",
     "output_type": "stream",
     "text": [
      "aaaaa\txxxxx\n",
      "xxxxx\tbbbbb\n",
      "ccccc\txxxxx\n",
      "xxxxx\tddddd\n",
      "eeeee\txxxxx\n",
      "aaaaa\tbbbbb\n",
      "....\tfffff\n",
      "axaxa\tbxbxb\n"
     ]
    }
   ],
   "source": [
    "%%bash\n",
    "grep -v \"X\" ejemplo.txt"
   ]
  },
  {
   "cell_type": "code",
   "execution_count": 7,
   "metadata": {},
   "outputs": [
    {
     "name": "stdout",
     "output_type": "stream",
     "text": [
      "xxxxx\taaaaa\n",
      "bbbbb\txxxxx\n",
      "xxxxx\tccccc\n",
      "ddddd\txxxxx\n",
      "xxxxx\teeeee\n",
      "bbbbb\taaaaa\n",
      "fffff\t....\n",
      "bxbxb\taxaxa\n"
     ]
    }
   ],
   "source": [
    "%%bash\n",
    "grep -v \"X\" ejemplo.txt | awk -F \"\\t\" '{print $2 \"\\t\" $1}'"
   ]
  },
  {
   "cell_type": "markdown",
   "metadata": {},
   "source": [
    "## Tasks\n",
    "\n",
    "This folder contains the nucleotide sequences of the genes of Acinetobacter baumannii in the FASTA format. In the sequence headers you will see additional information, like the gene name, the description of the gene and the location where this gene is on the genome.\n",
    "\n",
    "1. Extract information from the headers, creating a tabulator or pipe (|) separated file that contains the gene name, the description and the start and stop position of the gene. The result should look like this:\n",
    "\n",
    "```\n",
    "dnaA    chromosomal replication initiation protein      170     1567\n",
    "dnaN    DNA polymerase III subunit beta 1665    2813\n",
    "recF    recombination protein F 2828    3910\n",
    "```"
   ]
  },
  {
   "cell_type": "code",
   "execution_count": null,
   "metadata": {},
   "outputs": [],
   "source": [
    "%%bash\n"
   ]
  },
  {
   "cell_type": "markdown",
   "metadata": {},
   "source": [
    "2. Reorder the columns of your result so that it looks like this:\n",
    "\n",
    "```\n",
    "dnaA    170     1567    chromosomal replication initiation protein\n",
    "dnaN    1665    2813    DNA polymerase III subunit beta\n",
    "recF    2828    3910    recombination protein F\n",
    "```"
   ]
  },
  {
   "cell_type": "code",
   "execution_count": null,
   "metadata": {},
   "outputs": [],
   "source": [
    "%%bash\n"
   ]
  }
 ],
 "metadata": {
  "kernelspec": {
   "display_name": "Python 3",
   "language": "python",
   "name": "python3"
  },
  "language_info": {
   "codemirror_mode": {
    "name": "ipython",
    "version": 3
   },
   "file_extension": ".py",
   "mimetype": "text/x-python",
   "name": "python",
   "nbconvert_exporter": "python",
   "pygments_lexer": "ipython3",
   "version": "3.8.3"
  }
 },
 "nbformat": 4,
 "nbformat_minor": 4
}
